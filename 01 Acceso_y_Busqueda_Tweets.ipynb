{
 "cells": [
  {
   "cell_type": "markdown",
   "metadata": {},
   "source": [
    "<h1>Captura de Tweets</h1>\n",
    "\n",
    "<h2>Se definen clases y funciones que permitan capturar tweets mediante la API TweePy</h2>\n",
    "\n",
    "<p>En el directorio de trabajo debe haber una carpeta llamada **Config**. Dicha carpeta debe obtener dos archivos:</p>\n",
    "<ul>\n",
    "    <li>KeyWords.txt: un archivo de texto plano que contendrá por cada línea los términos a buscar en los tweets.</li>\n",
    "    <li>config.json: {\n",
    "        \"API_KEY\": \"...\",\n",
    "        \"API_SECRET\": \"...\",\n",
    "        \"ACCESS_TOKEN\": \"...\",\n",
    "        \"ACCESS_TOKEN_SECRET\": \"...\",\n",
    "        \"TERMS_FILE\": \"./Config/KeyWords.txt\",\n",
    "        \"STORAGE_PATH\": \"./Tweets/\"\n",
    "    }</li>\n",
    "</ul>\n",
    "<p>También debe contener una carpeta llamada Tweets para almacenar los archivos CSV que contendrán los tweets capturados</p>"
   ]
  },
  {
   "cell_type": "code",
   "execution_count": 39,
   "metadata": {},
   "outputs": [],
   "source": [
    "import tweepy\n",
    "import json\n",
    "import logging \n",
    "import pandas as pd"
   ]
  },
  {
   "cell_type": "code",
   "execution_count": 40,
   "metadata": {},
   "outputs": [],
   "source": [
    "class Authentication:\n",
    "    \n",
    "    \"\"\"\n",
    "    Función que me permite recorrer un archivo JSON, en donde iremos recorriendo línea por línea para obtener\n",
    "    el contenido de cada atributo y devolverlos como resultado\n",
    "    \"\"\"\n",
    "    def read_config_file(self, filename):\n",
    "        with open(filename, \"r\") as line:\n",
    "            json_content = line.read()\n",
    "        attributes = json.loads(json_content)\n",
    "        API_KEY = attributes[\"API_KEY\"]\n",
    "        API_SECRET = attributes[\"API_SECRET\"]\n",
    "        ACCESS_TOKEN = attributes[\"ACCESS_TOKEN\"]\n",
    "        ACCESS_TOKEN_SECRET = attributes[\"ACCESS_TOKEN_SECRET\"]\n",
    "        TERMS_FILE = attributes[\"TERMS_FILE\"]\n",
    "        TWEETS_STORAGE_PATH = attributes[\"TWEETS_STORAGE_PATH\"]\n",
    "        return API_KEY, API_SECRET, ACCESS_TOKEN, ACCESS_TOKEN_SECRET, TERMS_FILE, TWEETS_STORAGE_PATH\n",
    "    \n",
    "    def connect_api(self, API_KEY, API_SECRET, ACCESS_TOKEN, ACCESS_TOKEN_SECRET):\n",
    "        auth = tweepy.OAuthHandler(API_KEY,API_SECRET)\n",
    "        auth.set_access_token(ACCESS_TOKEN, ACCESS_TOKEN_SECRET)\n",
    "        api = tweepy.API(auth)\n",
    "        return api"
   ]
  },
  {
   "cell_type": "code",
   "execution_count": 41,
   "metadata": {},
   "outputs": [],
   "source": [
    "def get_authentication(configFile):\n",
    "    \n",
    "    \"\"\"\n",
    "    Creo la instancia de autenticación\n",
    "    \"\"\"\n",
    "    auth = Authentication()\n",
    "    \n",
    "    \"\"\"\n",
    "    Formateo el log\n",
    "    \"\"\"\n",
    "    logging.basicConfig(\n",
    "        format = '%(levelname)s: %(asctime)s - %(message)s',\n",
    "        datefmt = '%m/%d/%Y %I:%M:%S %p',\n",
    "        level = logging.INFO)\n",
    "    \n",
    "    logging.info(\"Obteniendo información del archivo config.json\")\n",
    "    API_KEY, API_SECRET, ACCESS_TOKEN, ACCESS_TOKEN_SECRET, TERMS_FILE, TWEETS_STORAGE_PATH = auth.read_config_file(configFile)\n",
    "\n",
    "    logging.info(\"Obteniendo autorización\")\n",
    "    api = auth.connect_api(API_KEY, API_SECRET, ACCESS_TOKEN, ACCESS_TOKEN_SECRET)\n",
    "\n",
    "    logging.info(\"Autorización generada con éxito\")\n",
    "    logging.info(\"Parámetros leídos con éxito\")\n",
    "\n",
    "    filter_terms = []\n",
    "    with open(TERMS_FILE) as f:\n",
    "        for term in f:\n",
    "            filter_terms.append(term.strip())\n",
    "    logging.info(\"Los términos a buscar en los tweets son \" + str(filter_terms))\n",
    "\n",
    "    return api, filter_terms, TWEETS_STORAGE_PATH\n",
    "    "
   ]
  },
  {
   "cell_type": "code",
   "execution_count": 42,
   "metadata": {},
   "outputs": [],
   "source": [
    "def get_tweets(tw_api, tw_quantity, tweets_storage_path):\n",
    "    \n",
    "    for term in filter_terms:\n",
    "        id, created_at, name, followers_count, full_text, favorite_count, retweet_count =[],[],[],[],[],[],[]\n",
    "        file = tweets_storage_path + \"Tweets_\"+str(term)+\".csv\"\n",
    "        logging.info(\"Buscando tweets para \" + str(term))\n",
    "        tweets = [status for status in tweepy.Cursor(tw_api.search, q=term, tweet_mode='extended', lan='es').items(tw_quantity)]\n",
    "        logging.info(\"Cantidad de tweets \" + str(len(tweets)))\n",
    "        for tweet in tweets:\n",
    "            id.append(tweet.id)\n",
    "            created_at.append(tweet.created_at)\n",
    "            name.append(tweet.user.screen_name)\n",
    "            followers_count.append(tweet.user.followers_count)\n",
    "            full_text.append(tweet.full_text)\n",
    "            favorite_count.append(tweet.favorite_count)\n",
    "            retweet_count.append(tweet.retweet_count)\n",
    "            df = pd.DataFrame( {'id': id,\n",
    "                                'created_at': created_at,\n",
    "                                'name': name,\n",
    "                                'followers_count': followers_count,\n",
    "                                'full_text': full_text,\n",
    "                                'favorite_count': favorite_count,\n",
    "                                'retweet_count': retweet_count,\n",
    "                                'flag': term\n",
    "                                })\n",
    "        df.to_csv(file)\n",
    "        logging.info(\"Archivo generado: \" + file)"
   ]
  },
  {
   "cell_type": "code",
   "execution_count": 43,
   "metadata": {},
   "outputs": [
    {
     "name": "stderr",
     "output_type": "stream",
     "text": [
      "INFO: 04/03/2019 04:02:32 PM - Obteniendo información del archivo config.json\n",
      "INFO: 04/03/2019 04:02:32 PM - Obteniendo autorización\n",
      "INFO: 04/03/2019 04:02:33 PM - Autorización generada con éxito\n",
      "INFO: 04/03/2019 04:02:33 PM - Parámetros leídos con éxito\n",
      "INFO: 04/03/2019 04:02:33 PM - Los términos a buscar en los tweets son ['Kirchner', 'Lavagna', 'Macri']\n",
      "INFO: 04/03/2019 04:02:33 PM - Buscando tweets para Kirchner\n",
      "INFO: 04/03/2019 04:03:03 PM - Cantidad de tweets 600\n",
      "INFO: 04/03/2019 04:03:05 PM - Archivo generado: ./Tweets/Tweets_Kirchner.csv\n",
      "INFO: 04/03/2019 04:03:05 PM - Buscando tweets para Lavagna\n",
      "INFO: 04/03/2019 04:03:41 PM - Cantidad de tweets 600\n",
      "INFO: 04/03/2019 04:03:42 PM - Archivo generado: ./Tweets/Tweets_Lavagna.csv\n",
      "INFO: 04/03/2019 04:03:42 PM - Buscando tweets para Macri\n",
      "INFO: 04/03/2019 04:04:12 PM - Cantidad de tweets 600\n",
      "INFO: 04/03/2019 04:04:12 PM - Archivo generado: ./Tweets/Tweets_Macri.csv\n"
     ]
    }
   ],
   "source": [
    "api, filter_terms, TWEETS_STORAGE_PATH = get_authentication(\"./Config/config.json\")\n",
    "get_tweets(api, 600, TWEETS_STORAGE_PATH)"
   ]
  },
  {
   "cell_type": "code",
   "execution_count": null,
   "metadata": {},
   "outputs": [],
   "source": []
  }
 ],
 "metadata": {
  "kernelspec": {
   "display_name": "Python 3",
   "language": "python",
   "name": "python3"
  },
  "language_info": {
   "codemirror_mode": {
    "name": "ipython",
    "version": 3
   },
   "file_extension": ".py",
   "mimetype": "text/x-python",
   "name": "python",
   "nbconvert_exporter": "python",
   "pygments_lexer": "ipython3",
   "version": "3.6.8"
  }
 },
 "nbformat": 4,
 "nbformat_minor": 2
}
